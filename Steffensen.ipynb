{
  "nbformat": 4,
  "nbformat_minor": 0,
  "metadata": {
    "colab": {
      "provenance": [],
      "authorship_tag": "ABX9TyOA4pp7XAEftWD1yOHtQqD6",
      "include_colab_link": true
    },
    "kernelspec": {
      "name": "python3",
      "display_name": "Python 3"
    },
    "language_info": {
      "name": "python"
    }
  },
  "cells": [
    {
      "cell_type": "markdown",
      "metadata": {
        "id": "view-in-github",
        "colab_type": "text"
      },
      "source": [
        "<a href=\"https://colab.research.google.com/github/KristannaPerez/KristannaPerez/blob/main/Steffensen.ipynb\" target=\"_parent\"><img src=\"https://colab.research.google.com/assets/colab-badge.svg\" alt=\"Open In Colab\"/></a>"
      ]
    },
    {
      "cell_type": "code",
      "source": [
        "import math"
      ],
      "metadata": {
        "id": "Y-IS1QB9Odiu"
      },
      "execution_count": 46,
      "outputs": []
    },
    {
      "cell_type": "markdown",
      "source": [
        "Nuestro objetivo sera encontrar una raiz de $f(x)= cos(x)-2x+3=0$"
      ],
      "metadata": {
        "id": "exbHFH_LR2DJ"
      }
    },
    {
      "cell_type": "code",
      "source": [
        "#Definimos nuestra funcion\n",
        "def f(x):\n",
        "    return math.cos(x)-2*x+3"
      ],
      "metadata": {
        "id": "WeRcR3EdOoIF"
      },
      "execution_count": 47,
      "outputs": []
    },
    {
      "cell_type": "markdown",
      "source": [
        "Primero evaluamos la funcion $f(x)$ en el punto actual $x_n$.\n",
        "De aqui calculamos el valor de la funcion con $x_0+g_x0$.\n",
        "Despues tendremos que el $denominador=f(x_0+f(x_0))-f(x_0)$ (si el valor de esta formula es 0 no se puede continuar pues es indefinido).\n",
        "\n",
        "---\n",
        "\n"
      ],
      "metadata": {
        "id": "UUqxUV17XNv-"
      }
    },
    {
      "cell_type": "markdown",
      "source": [
        "Teniendo lo anterior usamos la formula para encontrar a $x_1$. Esta sera:\n",
        "$x_0-\\dfrac{f(x_0)^2}{f(x_0+f(x_0))-f(x_0)}$.\n",
        "Y asi sucesivamente hasta encontrar nuestra raiz que se acerque a nuestra aproximacion $10^-5$.\n",
        "Nuestro error siempre sera:\n",
        "$|x_1-x_0|$"
      ],
      "metadata": {
        "id": "o9e0AlY2ZNvw"
      }
    },
    {
      "cell_type": "code",
      "source": [
        "# Definir el método de Steffensen con tabla de iteraciones y error\n",
        "def steffensen(x0, tol=1e-5, max_iter=100):\n",
        "    # Encabezado de la tabla con formato claro\n",
        "    print(f\"{'Iteración   ':<10}{'x':<15}{'f(x)':<15}{'Error':<15}\")\n",
        "\n",
        "    for i in range(max_iter):\n",
        "        # Evaluar f en x0\n",
        "        g_x0 = f(x0)\n",
        "\n",
        "        # Evitar división por cero\n",
        "        if abs(g_x0) < tol:\n",
        "            print(f\"{i:<10}{x0:<15.5f}{g_x0:<15.5f}{'0 (tolerancia alcanzada)':<15}\")\n",
        "            return x0, i  # La raíz encontrada y el número de iteraciones\n",
        "\n",
        "        # Aceleración de Aitken\n",
        "        g_x0_plus_g = f(x0 + g_x0)\n",
        "        denominator = g_x0_plus_g - g_x0\n",
        "\n",
        "        if denominator == 0:\n",
        "            print(\"Denominador cero, no se puede aplicar el método\")\n",
        "            return None\n",
        "\n",
        "        # Nueva aproximación\n",
        "        x1 = x0 - (g_x0**2) / denominator\n",
        "\n",
        "        # Calcular el error actual\n",
        "        error = abs(x1 - x0)\n",
        "\n",
        "        # Mostrar la iteración actual, valor de x, f(x), y error, con 5 decimales\n",
        "        print(f\"{i:<10}{x0:<15.5f}{g_x0:<15.5f}{error:<15.5f}\")\n",
        "\n",
        "        # Verificar si el error es menor que la tolerancia\n",
        "        if error < tol:\n",
        "            return x1, i\n",
        "\n",
        "        # Actualizar x0 para la siguiente iteración\n",
        "        x0 = x1\n",
        "\n",
        "    return None, max_iter  # No convergió en el número máximo de iteraciones\n",
        "\n",
        "# Valor inicial (x0) y llamada al método\n",
        "x0 = 0  # Puedes elegir cualquier valor inicial razonable\n",
        "raiz, iteraciones = steffensen(x0, tol=1e-5)\n",
        "\n",
        "# Mostrar el resultado\n",
        "if raiz is not None:\n",
        "    print(f\"\\nLa raíz aproximada será: {raiz:.5f}.\")\n",
        "else:\n",
        "    print(\"El método no convergió.\")\n"
      ],
      "metadata": {
        "colab": {
          "base_uri": "https://localhost:8080/"
        },
        "id": "-HP_0ypoWSdD",
        "outputId": "1d36756a-9ae7-4929-e4b5-9469575f9fba"
      },
      "execution_count": 49,
      "outputs": [
        {
          "output_type": "stream",
          "name": "stdout",
          "text": [
            "Iteración   x              f(x)           Error          \n",
            "0         0.00000        4.00000        1.65741        \n",
            "1         1.65741        -0.40131       0.13436        \n",
            "2         1.52305        0.00164        0.00055        \n",
            "3         1.52359        0.00000        0 (tolerancia alcanzada)\n",
            "\n",
            "La raíz aproximada será: 1.52359.\n"
          ]
        }
      ]
    },
    {
      "cell_type": "markdown",
      "source": [
        "En mi tabla, $x$ sera el valor de la raiz aproximada.\n",
        "Nuestra $f(x)$ sera nuestra funcion evaluada en $x$.\n",
        "Si nuestra $f(x)<tolerancia$, se encuentra nuestra raiz aproximada.\n"
      ],
      "metadata": {
        "id": "qrL-qgbDb91X"
      }
    }
  ]
}