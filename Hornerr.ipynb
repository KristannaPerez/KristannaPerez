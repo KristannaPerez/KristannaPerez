{
  "nbformat": 4,
  "nbformat_minor": 0,
  "metadata": {
    "colab": {
      "provenance": [],
      "authorship_tag": "ABX9TyOVNOk4QpuJBm4McjfRXBoG",
      "include_colab_link": true
    },
    "kernelspec": {
      "name": "python3",
      "display_name": "Python 3"
    },
    "language_info": {
      "name": "python"
    }
  },
  "cells": [
    {
      "cell_type": "markdown",
      "metadata": {
        "id": "view-in-github",
        "colab_type": "text"
      },
      "source": [
        "<a href=\"https://colab.research.google.com/github/KristannaPerez/KristannaPerez/blob/main/Hornerr.ipynb\" target=\"_parent\"><img src=\"https://colab.research.google.com/assets/colab-badge.svg\" alt=\"Open In Colab\"/></a>"
      ]
    },
    {
      "cell_type": "markdown",
      "source": [
        "Para comenzar aplicamos la formula de horner para polinomios $P(x_0)$ que es:\n",
        "$y=(....((a_nx_0+a_n-1)x_0+a_n-2)x_0+...+a_1)x_0$"
      ],
      "metadata": {
        "id": "bEpacZACzpiT"
      }
    },
    {
      "cell_type": "markdown",
      "source": [
        "Evaluamos la derivada $P'(x_0)$ con la siguiente formula:\n",
        "$z=(...((n•a_nx_0+(n-1)•a_n-1)x_0+...+a_1)x_0$"
      ],
      "metadata": {
        "id": "8UbWBrqb3RE9"
      }
    },
    {
      "cell_type": "markdown",
      "source": [
        "El codigo aplica las formulas y acumula los valores de $P(x_0)$ y $P'(x_0)$"
      ],
      "metadata": {
        "id": "kbB8q1m64Qvt"
      }
    },
    {
      "cell_type": "markdown",
      "source": [
        "Y asi le decimos que nos de los valores  de $P(x_0)$ y $P'(x_0)$"
      ],
      "metadata": {
        "id": "IbUnE4it4wlx"
      }
    },
    {
      "cell_type": "code",
      "execution_count": 4,
      "metadata": {
        "colab": {
          "base_uri": "https://localhost:8080/"
        },
        "id": "PLF3pufgk-cF",
        "outputId": "c7ffa75d-8760-4714-d27c-1bc3e1966b3c"
      },
      "outputs": [
        {
          "output_type": "stream",
          "name": "stdout",
          "text": [
            "Nuestro resultado es:\n",
            "P(x0) = 10\n",
            "Derivada en x0 = -49\n"
          ]
        }
      ],
      "source": [
        "def horner_method(coeffs, x0):\n",
        "    # Inicializamos y (P(x_0)) y z (derivada de P en x_0) con el coeficiente principal\n",
        "    y = coeffs[0]\n",
        "    z = coeffs[0]\n",
        "\n",
        "    # Realizamos las iteraciones para el método de Horner\n",
        "    for i in range(1, len(coeffs) - 1):\n",
        "        y = y * x0 + coeffs[i]\n",
        "        z = z * x0 + y\n",
        "\n",
        "    # El último paso para obtener P(x_0)\n",
        "    y = y * x0 + coeffs[-1]\n",
        "\n",
        "    return y, z\n",
        "\n",
        "# Ejemplo: Polinomio P(x) = 2x^4 - 3x^2 + 3x - 4\n",
        "coeffs = [2, 0, -3, 3, -4]\n",
        "\n",
        "# Valor de x_0\n",
        "x0 = -2\n",
        "\n",
        "# Llamamos a la función para obtener P(x_0) y su derivada\n",
        "y, z = horner_method(coeffs, x0)\n",
        "\n",
        "# Resultados\n",
        "print(f\"Nuestro resultado es:\")\n",
        "print(f\"P(x0) = {y}\")\n",
        "print(f\"Derivada en x0 = {z}\")\n"
      ]
    }
  ]
}