{
  "cells": [
    {
      "cell_type": "markdown",
      "metadata": {
        "id": "view-in-github",
        "colab_type": "text"
      },
      "source": [
        "<a href=\"https://colab.research.google.com/github/KristannaPerez/KristannaPerez/blob/main/Newton.ipynb\" target=\"_parent\"><img src=\"https://colab.research.google.com/assets/colab-badge.svg\" alt=\"Open In Colab\"/></a>"
      ]
    },
    {
      "cell_type": "code",
      "execution_count": null,
      "metadata": {
        "id": "eualuzzgD86v"
      },
      "outputs": [],
      "source": [
        "from math import*\n",
        "import numpy as np\n",
        "import matplotlib.pyplot as plt"
      ]
    },
    {
      "cell_type": "markdown",
      "source": [
        "Para newton ocupamos la funcion y la derivada, en este caso sera:\n",
        "$f(x)=x^3-x-1$, $f'(x)=3x^2-1$"
      ],
      "metadata": {
        "id": "v09iH0bCQ9EZ"
      }
    },
    {
      "cell_type": "code",
      "execution_count": null,
      "metadata": {
        "id": "nO6pqqjHEic3"
      },
      "outputs": [],
      "source": [
        "def f(x):\n",
        "  return x**3-x-1\n",
        "def df(x):\n",
        "  return 3*x**2-1"
      ]
    },
    {
      "cell_type": "code",
      "execution_count": null,
      "metadata": {
        "id": "wIIlDd70FK-x"
      },
      "outputs": [],
      "source": [
        "tol=0.01\n",
        "nmax=100\n",
        "error=100"
      ]
    },
    {
      "cell_type": "markdown",
      "source": [
        "Para que obtengamos $p1$ aplicaremos la formula $p0-( \\frac{f(p0)}{f'(p0)})$"
      ],
      "metadata": {
        "id": "fanYmQMXRt4d"
      }
    },
    {
      "cell_type": "code",
      "execution_count": null,
      "metadata": {
        "id": "8m7SNBPuFp1S",
        "colab": {
          "base_uri": "https://localhost:8080/"
        },
        "outputId": "b58ae4d3-4143-4eba-da42-640cdfff0821"
      },
      "outputs": [
        {
          "output_type": "stream",
          "name": "stdout",
          "text": [
            "Iteracion | Valor\n",
            "1         | 1.500000\n",
            "2         | 1.347826\n",
            "3         | 1.325200\n",
            "4         | 1.324718\n"
          ]
        }
      ],
      "source": [
        "def newton(x0, tol):\n",
        "  resultados=[]\n",
        "  x0=1\n",
        "  niter=0\n",
        "\n",
        "  while True:\n",
        "    x1=x0-(f(x0)/df(x0))\n",
        "    niter+=1\n",
        "    resultados.append([niter, x1])\n",
        "    if abs(x1-x0)<tol:\n",
        "      break\n",
        "    x0=x1\n",
        "  return resultados\n",
        "\n",
        "x0=1\n",
        "tol=0.01\n",
        "resultados=newton(x0, tol)\n",
        "\n",
        "print(\"Iteracion | Valor\")\n",
        "for iteracion, valor in resultados:\n",
        "  print(f\"{iteracion}         | {valor:.6f}\")"
      ]
    }
  ],
  "metadata": {
    "colab": {
      "provenance": [],
      "authorship_tag": "ABX9TyOR6bGLluwDv7oj604e2Swq",
      "include_colab_link": true
    },
    "kernelspec": {
      "display_name": "Python 3",
      "name": "python3"
    },
    "language_info": {
      "name": "python"
    }
  },
  "nbformat": 4,
  "nbformat_minor": 0
}