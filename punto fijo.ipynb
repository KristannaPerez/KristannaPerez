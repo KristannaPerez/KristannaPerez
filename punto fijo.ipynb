{
  "nbformat": 4,
  "nbformat_minor": 0,
  "metadata": {
    "colab": {
      "provenance": [],
      "authorship_tag": "ABX9TyOcjOP4jpuK+OD8kJxcKQ4z",
      "include_colab_link": true
    },
    "kernelspec": {
      "name": "python3",
      "display_name": "Python 3"
    },
    "language_info": {
      "name": "python"
    }
  },
  "cells": [
    {
      "cell_type": "markdown",
      "metadata": {
        "id": "view-in-github",
        "colab_type": "text"
      },
      "source": [
        "<a href=\"https://colab.research.google.com/github/KristannaPerez/KristannaPerez/blob/main/punto%20fijo.ipynb\" target=\"_parent\"><img src=\"https://colab.research.google.com/assets/colab-badge.svg\" alt=\"Open In Colab\"/></a>"
      ]
    },
    {
      "cell_type": "code",
      "execution_count": 7,
      "metadata": {
        "id": "phsq7e-ntSw8"
      },
      "outputs": [],
      "source": [
        "from math import *\n",
        "import numpy as np\n",
        "import pandas as pd"
      ]
    },
    {
      "cell_type": "markdown",
      "source": [
        "Teniendo nuestra $f(x)=x^3-x-1$ vamos igualarlo a $f(x)=0$ y asi nos quedara $h(x)$"
      ],
      "metadata": {
        "id": "R1dL2EfCXuGh"
      }
    },
    {
      "cell_type": "code",
      "source": [
        "def f(x):\n",
        "  return x**3 - x - 1\n",
        "def h(x):\n",
        "  return (x + 1)**(1/3)"
      ],
      "metadata": {
        "id": "BaHoqDBvPXLm"
      },
      "execution_count": 8,
      "outputs": []
    },
    {
      "cell_type": "code",
      "source": [
        "#Valores Iniciales\n",
        "x0=1\n",
        "tol=1e-2\n",
        "nmax=100\n",
        "niter=0\n",
        "error=1\n",
        "#Listas para guardar datos\n",
        "niter_list=[]\n",
        "x_list=[]\n",
        "gx_list=[]\n",
        "error_list=[]"
      ],
      "metadata": {
        "id": "OKGDjEqiQVtz"
      },
      "execution_count": 11,
      "outputs": []
    },
    {
      "cell_type": "code",
      "source": [
        "while error>tol and niter<nmax:\n",
        "  x1=h(x0)\n",
        "  error=abs(x1-x0)\n",
        "\n",
        "  niter_list.append(niter)\n",
        "  x_list.append(x0)\n",
        "  gx_list.append(x1)\n",
        "  error_list.append(error)\n",
        "\n",
        "  x0=x1\n",
        "  niter+=1"
      ],
      "metadata": {
        "id": "jYqXmrAVQ9z5"
      },
      "execution_count": 13,
      "outputs": []
    },
    {
      "cell_type": "code",
      "source": [
        "#Tablas\n",
        "df=pd.DataFrame({\n",
        "    'Iteracion':niter_list,\n",
        "    'x':x_list,\n",
        "    'g(x)':gx_list,\n",
        "    'error':error_list\n",
        "})\n",
        "\n",
        "print(df)\n",
        "\n",
        "print('\\nNuestra raiz aproximada es:', x1)"
      ],
      "metadata": {
        "colab": {
          "base_uri": "https://localhost:8080/"
        },
        "id": "TZyefQmoTdtZ",
        "outputId": "ee425c25-e50b-4760-bc09-e69845767dbd"
      },
      "execution_count": 19,
      "outputs": [
        {
          "output_type": "stream",
          "name": "stdout",
          "text": [
            "   Iteracion         x      g(x)     error\n",
            "0          0  1.000000  1.259921  0.259921\n",
            "1          1  1.259921  1.312294  0.052373\n",
            "2          2  1.312294  1.322354  0.010060\n",
            "3          3  1.322354  1.324269  0.001915\n",
            "\n",
            "Nuestra raiz aproximada es: 1.324268744551578\n"
          ]
        }
      ]
    }
  ]
}