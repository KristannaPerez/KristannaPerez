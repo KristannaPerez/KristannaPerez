{
  "nbformat": 4,
  "nbformat_minor": 0,
  "metadata": {
    "colab": {
      "provenance": [],
      "authorship_tag": "ABX9TyPfTtZk8fTb9yxYQiuyJzJ1",
      "include_colab_link": true
    },
    "kernelspec": {
      "name": "python3",
      "display_name": "Python 3"
    },
    "language_info": {
      "name": "python"
    }
  },
  "cells": [
    {
      "cell_type": "markdown",
      "metadata": {
        "id": "view-in-github",
        "colab_type": "text"
      },
      "source": [
        "<a href=\"https://colab.research.google.com/github/KristannaPerez/KristannaPerez/blob/main/Hermite.ipynb\" target=\"_parent\"><img src=\"https://colab.research.google.com/assets/colab-badge.svg\" alt=\"Open In Colab\"/></a>"
      ]
    },
    {
      "cell_type": "markdown",
      "source": [
        "La interpolacion de Hermite es una tecnica que no solo considera los valores de la funcion en ciertos puntos, sino tambien los valores de sus derivadas esto nos permite construir un polinomio que se ajusta a la funcion y su derivada en los puntos dados."
      ],
      "metadata": {
        "id": "NZiOlaX_AFNk"
      }
    },
    {
      "cell_type": "markdown",
      "source": [
        "El polinomio de Hermite se define como:\\\\\n",
        "$H(x)=Q_{0,0}+Q_{1,1}(x-z_0)+Q_{2,2}(x-z_0)(x-z_1)+...+Q_{n,n}(x-z_0)(x-z_1)...(x-z_{n-1})$"
      ],
      "metadata": {
        "id": "nfTjj9sYA57G"
      }
    },
    {
      "cell_type": "markdown",
      "source": [
        "Donde: \\\\\n",
        "$Q_{i,j}$ son los coeficientes obtenidos mediante una tabla de diferencias divididas extendidas. \\\\\n",
        "$z$ es el conjunto de nudos duplicados , donde cada $x_i$ se repite dos veces debido a las condiciones impuestas por la derivada."
      ],
      "metadata": {
        "id": "yyl6MAO_CwHA"
      }
    },
    {
      "cell_type": "markdown",
      "source": [
        "Para los calculos de las diferencias tenemos que: \\\\\n",
        "Valores iniciales: \\\\\n",
        "$Q_{2i,0}=f(x_i), Q_{2i+1,0}=f(x_i)$ \\\\\n",
        "Las primeras diferencias: \\\\\n",
        "$Q_{2i+1,1}=f'(x_i), Q_{2i,1}=\\frac{Q_{2i,0}-Q_{2i-1,0}}{z_{2i}-z_{2i-1}}$ \\\\\n",
        " si $(i>0)$ \\\\\n",
        " Diferencias superiores: \\\\\n",
        " $$Q_{i,j} = \\frac{Q_{i,j-1} - Q_{i-1,j-1}}{z_i - z_{i-j}}.\n",
        "$$ \\\\\n",
        "Para $(j\\geq2)$\n"
      ],
      "metadata": {
        "id": "48Xf3nmSFE0H"
      }
    },
    {
      "cell_type": "markdown",
      "source": [
        "Estas formulas son para calcular la tabla de diferencias divididas y calcular los coeficientes del polinomio de Hermite."
      ],
      "metadata": {
        "id": "uAOismWxJY5f"
      }
    },
    {
      "cell_type": "code",
      "source": [
        "import sympy as sp\n",
        "\n",
        "def interpolacion_hermite(x, fx, fpx):\n",
        "    n = len(x)\n",
        "    z = [0] * (2 * n)  # Nodos duplicados\n",
        "    Q = [[0] * (2 * n) for _ in range(2 * n)]  # Tabla de diferencias divididas\n",
        "\n",
        "    # Paso 1 y Paso 2\n",
        "    for i in range(n):\n",
        "        z[2 * i] = x[i]\n",
        "        z[2 * i + 1] = x[i]\n",
        "        Q[2 * i][0] = fx[i]\n",
        "        Q[2 * i + 1][0] = fx[i]\n",
        "        Q[2 * i + 1][1] = fpx[i]\n",
        "        if i != 0:\n",
        "            Q[2 * i][1] = (Q[2 * i][0] - Q[2 * i - 1][0]) / (z[2 * i] - z[2 * i - 1])\n",
        "    # Paso 4\n",
        "    for i in range(2, 2 * n):\n",
        "        for j in range(2, i + 1):\n",
        "            Q[i][j] = (Q[i][j - 1] - Q[i - 1][j - 1]) / (z[i] - z[i - j])\n",
        "    # Paso 5\n",
        "    return Q, z\n",
        "\n",
        "\n",
        "def construir_polinomio_hermite(Q, z):\n",
        "    x = sp.symbols('x')\n",
        "    n = len(z)\n",
        "    polinomio = Q[0][0]\n",
        "    producto = 1\n",
        "\n",
        "    for i in range(1, n):\n",
        "        producto *= (x - z[i - 1])\n",
        "        polinomio += Q[i][i] * producto\n",
        "\n",
        "    return sp.simplify(polinomio)\n",
        "\n",
        "\n",
        "def redondear_coeficientes(polinomio, decimales=7):\n",
        "    return sp.simplify(\n",
        "        sp.nsimplify(polinomio, rational=True).evalf(chop=True, n=decimales)\n",
        "    )\n",
        "\n",
        "# Datos del ejemplo\n",
        "puntos_x = [1.3, 1.6, 1.9]\n",
        "valores_fx = [0.6200860, 0.4554022, 0.2818186]\n",
        "valores_fpx = [-0.5220232, -0.5698959, -0.5811571]\n",
        "\n",
        "# Calcular la tabla de diferencias divididas y los nodos\n",
        "Q, z = interpolacion_hermite(puntos_x, valores_fx, valores_fpx)\n",
        "\n",
        "# Construir el polinomio\n",
        "polinomio_hermite = construir_polinomio_hermite(Q, z)\n",
        "\n",
        "# Redondear el polinomio a 7 decimales\n",
        "polinomio_redondeado = redondear_coeficientes(polinomio_hermite, decimales=7)\n",
        "\n",
        "# Mostrar el polinomio\n",
        "print(\"Polinomio de Hermite:\")\n",
        "print(polinomio_redondeado)\n",
        "\n",
        "# Evaluar el polinomio en x = 1.5\n",
        "x_evaluar = 1.5\n",
        "resultado = polinomio_redondeado.evalf(subs={sp.symbols('x'): x_evaluar})\n",
        "print(f\"\\nAproximación de f({x_evaluar}): {resultado:.7f}\")\n"
      ],
      "metadata": {
        "colab": {
          "base_uri": "https://localhost:8080/"
        },
        "id": "odG4RsUW6Ehh",
        "outputId": "14bddfb2-38bb-425c-b51c-b6a620a7eb8a"
      },
      "execution_count": 11,
      "outputs": [
        {
          "output_type": "stream",
          "name": "stdout",
          "text": [
            "Polinomio de Hermite:\n",
            "-0.002774691*x**5 + 0.02403179*x**4 - 0.01455608*x**3 - 0.2352162*x**2 - 0.008229223*x + 1.001944\n",
            "\n",
            "Aproximación de f(1.5): 0.5118277\n"
          ]
        }
      ]
    }
  ]
}