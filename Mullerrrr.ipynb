{
  "nbformat": 4,
  "nbformat_minor": 0,
  "metadata": {
    "colab": {
      "provenance": [],
      "include_colab_link": true
    },
    "kernelspec": {
      "name": "python3",
      "display_name": "Python 3"
    },
    "language_info": {
      "name": "python"
    }
  },
  "cells": [
    {
      "cell_type": "markdown",
      "metadata": {
        "id": "view-in-github",
        "colab_type": "text"
      },
      "source": [
        "<a href=\"https://colab.research.google.com/github/KristannaPerez/KristannaPerez/blob/main/Mullerrrr.ipynb\" target=\"_parent\"><img src=\"https://colab.research.google.com/assets/colab-badge.svg\" alt=\"Open In Colab\"/></a>"
      ]
    },
    {
      "cell_type": "code",
      "execution_count": 18,
      "metadata": {
        "id": "lApEgyBRrgEJ"
      },
      "outputs": [],
      "source": [
        "import numpy as np"
      ]
    },
    {
      "cell_type": "markdown",
      "source": [
        " En este codigo tenemos el Metodo de Muller que nos construye un polinomio cuadratico que pasa por los 3 puntos $x_0,x_1,x_2$ donde tendremos que:\n",
        "$f(x)=a(x-x_2)^2+b(x-x_2)+c$\n",
        "donde a, b y c son los coeficientes que se calculan usando las diferencias entre los puntos y $c=f(x_2)$ es el valor de la funcion en $x_2$."
      ],
      "metadata": {
        "id": "VJ1wMs1p8bio"
      }
    },
    {
      "cell_type": "markdown",
      "source": [
        "Para obtener las diferencias entre los puntos se calculan con las formulas: \\\\\n",
        "$h_0 = x_1 - x_0$ \\\\\n",
        "$h_1 = x_2 - x_1 $ \\\\\n",
        "Y para las diferencias de los valores de la funcion es con: \\\\\n",
        "$d_0 = (f(x_1) - f(x_0)) / h_0$ \\\\\n",
        "$d_1 = (f(x_2) - f(x_1)) / h_1 $ \\\\"
      ],
      "metadata": {
        "id": "89MUoqez-Z6j"
      }
    },
    {
      "cell_type": "markdown",
      "source": [
        "Despues calculamos los coeficientes a, b y c con:\n",
        "$a=δ_1-δ_0/h_1+h_0$ \\\\\n",
        "$b=a•h_1+δ_1$ \\\\\n",
        "$c=f(x_2)$"
      ],
      "metadata": {
        "id": "s7lVi7A4wJTQ"
      }
    },
    {
      "cell_type": "markdown",
      "source": [
        "Este metodo resuelve con la formula general sin embargo, en lugar de resolver para x sera para dx \\\\\n",
        "$dx=-2c/b\\pm\\sqrt{b^2-4ac}$ \\\\\n",
        "Despues se elige el signo que evita divisores por valores pequeños. \\\\\n",
        "Y asi calcula las aproximaciones de la raiz hasta que: \\\\\n",
        "$|dx|= tol$"
      ],
      "metadata": {
        "id": "Dynm9DhpBEIb"
      }
    },
    {
      "source": [
        "def metodo_muller(f, x0, x1, x2, tol=1e-6, max_iter=100):\n",
        "    for i in range(max_iter):\n",
        "        h0 = x1 - x0\n",
        "        h1 = x2 - x1\n",
        "        #Se evalua f(x) en x0 , x1 y x2 respectivamente\n",
        "        d0 = (f(x1) - f(x0)) / h0\n",
        "        d1 = (f(x2) - f(x1)) / h1\n",
        "        a = (d1 - d0) / (h1 + h0) #Coeficiente de a\n",
        "        b = a * h1 + d1 #Coeficiente de b\n",
        "        c = f(x2) #Coeficiente de c\n",
        "\n",
        "        # Calcula la raíz de la parábola\n",
        "        x3 = x2 - (2 * c) / (b + np.sign(b) * np.sqrt(b**2 - 4 * a * c))\n",
        "\n",
        "        # Verifica la convergencia\n",
        "        if abs(x3 - x2) < tol:\n",
        "            return x3\n",
        "\n",
        "        # Actualiza los puntos\n",
        "        x0, x1, x2 = x1, x2, x3\n",
        "\n",
        "    # Si no hay convergencia\n",
        "    raise RuntimeError(\"El método de Muller no convergió después de {} iteraciones.\".format(max_iter))\n",
        "\n",
        "# Ejemplo de tarea\n",
        "def f(x):\n",
        "    return x**3 - 13*x - 12\n",
        "\n",
        "# Encontramos la raíz usando el método de Muller\n",
        "x0, x1, x2 = 4.5, 5.5, 5\n",
        "root = metodo_muller(f, x0, x1, x2)\n",
        "\n",
        "print(\"La raíz aproximada es:\", root)"
      ],
      "cell_type": "code",
      "metadata": {
        "colab": {
          "base_uri": "https://localhost:8080/"
        },
        "id": "eqbgs4sJsWnR",
        "outputId": "67c3c4d6-bdce-4272-f0d5-4183cef801ad"
      },
      "execution_count": 19,
      "outputs": [
        {
          "output_type": "stream",
          "name": "stdout",
          "text": [
            "La raíz aproximada es: 4.000000000000497\n"
          ]
        }
      ]
    },
    {
      "cell_type": "code",
      "source": [],
      "metadata": {
        "id": "9uWZefFq5lPj"
      },
      "execution_count": null,
      "outputs": []
    }
  ]
}