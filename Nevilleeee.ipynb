{
  "nbformat": 4,
  "nbformat_minor": 0,
  "metadata": {
    "colab": {
      "provenance": [],
      "authorship_tag": "ABX9TyMlGk9Il5q16uLneEgCrFHA",
      "include_colab_link": true
    },
    "kernelspec": {
      "name": "python3",
      "display_name": "Python 3"
    },
    "language_info": {
      "name": "python"
    }
  },
  "cells": [
    {
      "cell_type": "markdown",
      "metadata": {
        "id": "view-in-github",
        "colab_type": "text"
      },
      "source": [
        "<a href=\"https://colab.research.google.com/github/KristannaPerez/KristannaPerez/blob/main/Nevilleeee.ipynb\" target=\"_parent\"><img src=\"https://colab.research.google.com/assets/colab-badge.svg\" alt=\"Open In Colab\"/></a>"
      ]
    },
    {
      "cell_type": "markdown",
      "source": [
        "El metodo de Neville se usa para encontrar el valor interpolado de una funcion $f(x)$ en un punto especifico $x$ utilizando un conjunto de puntos como:\n",
        "$(x_0,f(x_0)),(x_1,f(x_1))...(x_n,f(x_n))$\n",
        "Con este metodo generamos un polinomio de interpolacion de forma recursiva y para esto usamos la formula:"
      ],
      "metadata": {
        "id": "F5jSe_UNrSG1"
      }
    },
    {
      "cell_type": "markdown",
      "source": [
        "$Q_{i,j} = \\frac{(x - x_{i+j}) \\cdot Q_{i,j-1} - (x - x_i) \\cdot Q_{i+1,j-1}}{x_i - x_{i+j}}$\n"
      ],
      "metadata": {
        "id": "vxj1gEApvHoi"
      }
    },
    {
      "cell_type": "markdown",
      "source": [
        "Donde: \\\\\n",
        "$Q_{i,0}=f(x_i)$ son los valores iniciales conocidos \\\\\n",
        "$i$ es el indice de la fila \\\\\n",
        "$j$ es el indice de la columna \\\\\n",
        "$x$ es el punto donde interpolamos \\\\\n",
        "$x_{i+j}$ y $x_i$ son los puntos conocidos del eje $x$"
      ],
      "metadata": {
        "id": "VOpNC395whTE"
      }
    },
    {
      "cell_type": "code",
      "source": [
        "from tabulate import tabulate\n",
        "def neville_with_pretty_table(x_points, y_points, x):\n",
        "    n = len(x_points)\n",
        "    Q = [[0] * n for _ in range(n)]\n",
        "\n",
        "    # Llenar la primera columna con los valores de y_points\n",
        "    for i in range(n):\n",
        "        Q[i][0] = y_points[i]\n",
        "\n",
        "    # Aplicar la fórmula de Neville y llenar la tabla\n",
        "    for j in range(1, n):\n",
        "        for i in range(n - j):\n",
        "            Q[i][j] = ((x - x_points[i + j]) * Q[i][j - 1] - (x - x_points[i]) * Q[i + 1][j - 1]) / (x_points[i] - x_points[i + j])\n",
        "\n",
        "    # Crear una tabla\n",
        "    table = []\n",
        "    headers = [f\"Q_{i}\" for i in range(n)]\n",
        "    for i in range(n):\n",
        "        row = [f\"{Q[i][j]:.7f}\" if j <= n - i - 1 else \"\" for j in range(n)]\n",
        "        table.append(row)\n",
        "\n",
        "    # Imprimir la tabla\n",
        "    print(\"Tabla de Neville:\")\n",
        "    print(tabulate(table, headers=headers, tablefmt=\"grid\"))\n",
        "\n",
        "    return Q[0][n - 1]  # Valor final en la tabla\n",
        "\n",
        "# Datos del ejemplo\n",
        "x_points = [1.0, 1.3, 1.6, 1.9, 2.2]\n",
        "y_points = [0.7651977, 0.6200860, 0.4554022, 0.2818186, 0.1103623]\n",
        "x = 1.5\n",
        "\n",
        "# Calcular con impresión de tabla\n",
        "resultado = neville_with_pretty_table(x_points, y_points, x)\n",
        "print(f\"\\nEl valor interpolado en x = {x} es {resultado:.7f}\")\n"
      ],
      "metadata": {
        "colab": {
          "base_uri": "https://localhost:8080/"
        },
        "id": "41eQZxYTvnPQ",
        "outputId": "5d3ed7ef-7227-426a-988c-b7209a91a5f1"
      },
      "execution_count": 10,
      "outputs": [
        {
          "output_type": "stream",
          "name": "stdout",
          "text": [
            "Tabla de Neville:\n",
            "+----------+-----------+-----------+-----------+-----------+\n",
            "|      Q_0 | Q_1       | Q_2       | Q_3       | Q_4       |\n",
            "+==========+===========+===========+===========+===========+\n",
            "| 0.765198 | 0.5233449 | 0.5124715 | 0.5118127 | 0.5118200 |\n",
            "+----------+-----------+-----------+-----------+-----------+\n",
            "| 0.620086 | 0.5102968 | 0.5112857 | 0.5118302 |           |\n",
            "+----------+-----------+-----------+-----------+-----------+\n",
            "| 0.455402 | 0.5132634 | 0.5137361 |           |           |\n",
            "+----------+-----------+-----------+-----------+-----------+\n",
            "| 0.281819 | 0.5104270 |           |           |           |\n",
            "+----------+-----------+-----------+-----------+-----------+\n",
            "| 0.110362 |           |           |           |           |\n",
            "+----------+-----------+-----------+-----------+-----------+\n",
            "\n",
            "El valor interpolado en x = 1.5 es 0.5118200\n"
          ]
        }
      ]
    },
    {
      "cell_type": "markdown",
      "source": [
        "Por lo que el resultado final representa el polinomio de interpolacion evaluado en $x$"
      ],
      "metadata": {
        "id": "Bix6LlkoyJwo"
      }
    }
  ]
}