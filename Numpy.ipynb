{
  "nbformat": 4,
  "nbformat_minor": 0,
  "metadata": {
    "colab": {
      "provenance": [],
      "authorship_tag": "ABX9TyNfYImhrCKfTDQtB9CcWkId",
      "include_colab_link": true
    },
    "kernelspec": {
      "name": "python3",
      "display_name": "Python 3"
    },
    "language_info": {
      "name": "python"
    }
  },
  "cells": [
    {
      "cell_type": "markdown",
      "metadata": {
        "id": "view-in-github",
        "colab_type": "text"
      },
      "source": [
        "<a href=\"https://colab.research.google.com/github/KristannaPerez/KristannaPerez/blob/main/Numpy.ipynb\" target=\"_parent\"><img src=\"https://colab.research.google.com/assets/colab-badge.svg\" alt=\"Open In Colab\"/></a>"
      ]
    },
    {
      "cell_type": "markdown",
      "source": [
        "Numpy es una libreria de Python para poder trabajar con arreglos y asi realizar operaciones matematicas de forma eficiente."
      ],
      "metadata": {
        "id": "dz3BE5ulL2eO"
      }
    },
    {
      "cell_type": "code",
      "execution_count": 8,
      "metadata": {
        "id": "-EfFayt_KZlU"
      },
      "outputs": [],
      "source": [
        "import numpy as np"
      ]
    },
    {
      "cell_type": "markdown",
      "source": [
        "Si no tenemos instalado la libreria Numpy, podemos hacerlo usando el siguiente comando. Esto nos permitira usar las funciones de Numpy."
      ],
      "metadata": {
        "id": "AwqS8kxzKw-Q"
      }
    },
    {
      "cell_type": "code",
      "source": [
        "# !pip install numpy"
      ],
      "metadata": {
        "id": "JsYjKTbKLFlu"
      },
      "execution_count": 9,
      "outputs": []
    },
    {
      "cell_type": "markdown",
      "source": [
        "Un array es una estructura de datos que almacena una coleccion de elementos  (numeros o cadenas) en una secuencia organizada.\n",
        "Un array unidimensional es una lista de numeros.\n",
        "Un array bidimensional es como una tabla de numeros (o matriz), con filas y columnas.\n",
        "Un array tridimensional es como un cubo de datos con filas y columnas."
      ],
      "metadata": {
        "id": "EQFwB-LaMQ3I"
      }
    },
    {
      "cell_type": "code",
      "source": [
        "# Array unidimensional\n",
        "array_1d = np.array([1, 2, 3, 4])\n",
        "print(\"Array unidimensional:\", array_1d)\n",
        "\n",
        "# Array bidimensional\n",
        "array_2d = np.array([[1, 2, 3], [4, 5, 6]])\n",
        "print(\"Array bidimensional:\\n\", array_2d)\n",
        "\n",
        "# Array tridimensional\n",
        "array_3d = np.array([[[1, 2], [3, 4]], [[5, 6], [7, 8]]])\n",
        "print(\"Array tridimensional:\\n\", array_3d)"
      ],
      "metadata": {
        "colab": {
          "base_uri": "https://localhost:8080/"
        },
        "id": "gaLswTkRMTed",
        "outputId": "763f3b82-3f49-4072-a70f-4968a132562c"
      },
      "execution_count": 10,
      "outputs": [
        {
          "output_type": "stream",
          "name": "stdout",
          "text": [
            "Array unidimensional: [1 2 3 4]\n",
            "Array bidimensional:\n",
            " [[1 2 3]\n",
            " [4 5 6]]\n",
            "Array tridimensional:\n",
            " [[[1 2]\n",
            "  [3 4]]\n",
            "\n",
            " [[5 6]\n",
            "  [7 8]]]\n"
          ]
        }
      ]
    },
    {
      "cell_type": "markdown",
      "source": [
        "Cada array tiene propiedades útiles como:\n",
        "su forma (shape), número de dimensiones (ndim), tamaño (size), y tipo de datos (dtype).\n"
      ],
      "metadata": {
        "id": "KfyXgtx9PeOO"
      }
    },
    {
      "cell_type": "code",
      "source": [
        "print(\"Forma del array:\", array_2d.shape)\n",
        "print(\"Dimensiones del array:\", array_2d.ndim)\n",
        "print(\"Tamaño del array:\", array_2d.size)\n",
        "print(\"Tipo de datos del array:\", array_2d.dtype)"
      ],
      "metadata": {
        "colab": {
          "base_uri": "https://localhost:8080/"
        },
        "id": "8rLSPEL9PXHM",
        "outputId": "4848df4d-5a08-4c86-9968-c391e5f22806"
      },
      "execution_count": 12,
      "outputs": [
        {
          "output_type": "stream",
          "name": "stdout",
          "text": [
            "Forma del array: (2, 3)\n",
            "Dimensiones del array: 2\n",
            "Tamaño del array: 6\n",
            "Tipo de datos del array: int64\n"
          ]
        }
      ]
    },
    {
      "cell_type": "markdown",
      "source": [
        "Estas funciones son para crear arrays rapidamentes y son utiles para inicializar arrays con valores en especifico."
      ],
      "metadata": {
        "id": "kMGtoIv8Pfvs"
      }
    },
    {
      "cell_type": "code",
      "source": [
        "# Array de ceros\n",
        "zeros_array = np.zeros((3, 3))\n",
        "print(\"Array de ceros:\\n\", zeros_array)\n",
        "\n",
        "# Array de unos\n",
        "ones_array = np.ones((2, 2))\n",
        "print(\"Array de unos:\\n\", ones_array)\n",
        "\n",
        "# Array con rango\n",
        "range_array = np.arange(0, 10, 2)\n",
        "print(\"Array con rango:\", range_array)\n",
        "\n",
        "# Array con valores espaciados linealmente\n",
        "linspace_array = np.linspace(0, 1, 5)\n",
        "print(\"Array con valores espaciados:\", linspace_array)\n"
      ],
      "metadata": {
        "colab": {
          "base_uri": "https://localhost:8080/"
        },
        "id": "JqKyySCyPnM1",
        "outputId": "5ff9c18c-9357-47af-d55c-083c4b4293ff"
      },
      "execution_count": 13,
      "outputs": [
        {
          "output_type": "stream",
          "name": "stdout",
          "text": [
            "Array de ceros:\n",
            " [[0. 0. 0.]\n",
            " [0. 0. 0.]\n",
            " [0. 0. 0.]]\n",
            "Array de unos:\n",
            " [[1. 1.]\n",
            " [1. 1.]]\n",
            "Array con rango: [0 2 4 6 8]\n",
            "Array con valores espaciados: [0.   0.25 0.5  0.75 1.  ]\n"
          ]
        }
      ]
    },
    {
      "cell_type": "markdown",
      "source": [
        "Esto es para poder realizar operaciones matematicas en array de manera directa."
      ],
      "metadata": {
        "id": "EBAmZsLDPsX-"
      }
    },
    {
      "cell_type": "code",
      "source": [
        "# Operaciones aritméticas\n",
        "array = np.array([1, 2, 3, 4])\n",
        "print(\"Suma:\", array + 2)\n",
        "print(\"Multiplicación:\", array * 3)\n",
        "\n",
        "# Funciones agregadas\n",
        "print(\"Suma de elementos:\", np.sum(array))\n",
        "print(\"Promedio de elementos:\", np.mean(array))\n",
        "print(\"Máximo:\", np.max(array))\n",
        "print(\"Mínimo:\", np.min(array))\n"
      ],
      "metadata": {
        "colab": {
          "base_uri": "https://localhost:8080/"
        },
        "id": "vbptmxJQP7NH",
        "outputId": "4e6b8b32-a6c2-4ee6-fb74-a992ba02ced1"
      },
      "execution_count": 14,
      "outputs": [
        {
          "output_type": "stream",
          "name": "stdout",
          "text": [
            "Suma: [3 4 5 6]\n",
            "Multiplicación: [ 3  6  9 12]\n",
            "Suma de elementos: 10\n",
            "Promedio de elementos: 2.5\n",
            "Máximo: 4\n",
            "Mínimo: 1\n"
          ]
        }
      ]
    },
    {
      "cell_type": "markdown",
      "source": [
        "NumPy permite acceder a elementos específicos de los arrays y realizar \"slicing\" o sub-arreglos, lo cual es útil para manipular los datos.\n"
      ],
      "metadata": {
        "id": "uHD8oAkmQEIs"
      }
    },
    {
      "cell_type": "code",
      "source": [
        "array = np.array([1, 2, 3, 4, 5])\n",
        "print(\"Primer elemento:\", array[0])\n",
        "print(\"Últimos tres elementos:\", array[-3:])\n",
        "\n",
        "# Indexación en arrays bidimensionales\n",
        "array_2d = np.array([[1, 2, 3], [4, 5, 6]])\n",
        "print(\"Elemento (1,2):\", array_2d[1, 2])\n"
      ],
      "metadata": {
        "colab": {
          "base_uri": "https://localhost:8080/"
        },
        "id": "kOemBeSRQE3C",
        "outputId": "6d80e4cf-8ac1-410f-d81f-638d808ce478"
      },
      "execution_count": 15,
      "outputs": [
        {
          "output_type": "stream",
          "name": "stdout",
          "text": [
            "Primer elemento: 1\n",
            "Últimos tres elementos: [3 4 5]\n",
            "Elemento (1,2): 6\n"
          ]
        }
      ]
    },
    {
      "cell_type": "markdown",
      "source": [
        "Tambien nos permite cambiar la forma de un array con (reshape), y aplanar un array con (flatten).\n"
      ],
      "metadata": {
        "id": "Dkuu_hZ0QLzA"
      }
    },
    {
      "cell_type": "code",
      "source": [
        "array = np.array([[1, 2, 3], [4, 5, 6]])\n",
        "reshaped_array = array.reshape(3, 2)\n",
        "print(\"Array redimensionado:\\n\", reshaped_array)\n",
        "\n",
        "flattened_array = array.flatten()\n",
        "print(\"Array aplanado:\", flattened_array)\n"
      ],
      "metadata": {
        "colab": {
          "base_uri": "https://localhost:8080/"
        },
        "id": "ILBGQ93eQMs2",
        "outputId": "d7285118-cb1b-4082-da99-5299d3ef9b0f"
      },
      "execution_count": 19,
      "outputs": [
        {
          "output_type": "stream",
          "name": "stdout",
          "text": [
            "Array redimensionado:\n",
            " [[1 2]\n",
            " [3 4]\n",
            " [5 6]]\n",
            "Array aplanado: [1 2 3 4 5 6]\n"
          ]
        }
      ]
    },
    {
      "cell_type": "markdown",
      "source": [
        "Nos facilita las operaciones de álgebra lineal como la multiplicación de matrices y el cálculo de la transpuesta.\n"
      ],
      "metadata": {
        "id": "7l7ZTo34QSZt"
      }
    },
    {
      "cell_type": "code",
      "source": [
        "matriz_a = np.array([[1, 2], [3, 4]])\n",
        "matriz_b = np.array([[5, 6], [7, 8]])\n",
        "\n",
        "# Multiplicación de matrices\n",
        "product = np.dot(matriz_a, matriz_b)\n",
        "print(\"Producto de matrices:\\n\", product)\n",
        "\n",
        "# Transpuesta de una matriz\n",
        "print(\"Transpuesta de matriz_a:\\n\", matriz_a.T)\n"
      ],
      "metadata": {
        "colab": {
          "base_uri": "https://localhost:8080/"
        },
        "id": "aNdOzkrXQZ2I",
        "outputId": "e431af2e-6fce-4271-930e-420d0bc9c1e8"
      },
      "execution_count": 20,
      "outputs": [
        {
          "output_type": "stream",
          "name": "stdout",
          "text": [
            "Producto de matrices:\n",
            " [[19 22]\n",
            " [43 50]]\n",
            "Transpuesta de matriz_a:\n",
            " [[1 3]\n",
            " [2 4]]\n"
          ]
        }
      ]
    },
    {
      "cell_type": "markdown",
      "source": [
        "Aqui nos muestra como se usa en gracicos y la preparacion de datos para la interpolacion."
      ],
      "metadata": {
        "id": "y7aZaQKRQWw-"
      }
    },
    {
      "cell_type": "code",
      "source": [
        "import matplotlib.pyplot as plt\n",
        "\n",
        "# Generación de datos\n",
        "x = np.linspace(0, 10, 100)\n",
        "y = np.sin(x)\n",
        "\n",
        "# Visualización básica con Matplotlib\n",
        "plt.plot(x, y)\n",
        "plt.title(\"Ejemplo de gráfico con datos generados en NumPy\")\n",
        "plt.xlabel(\"x\")\n",
        "plt.ylabel(\"sin(x)\")\n",
        "plt.show()\n"
      ],
      "metadata": {
        "colab": {
          "base_uri": "https://localhost:8080/",
          "height": 278
        },
        "id": "hifqk16yQe42",
        "outputId": "dfb7e2a4-cf41-4d28-e174-8a1d87122ca0"
      },
      "execution_count": 21,
      "outputs": [
        {
          "output_type": "display_data",
          "data": {
            "text/plain": [
              "<Figure size 640x480 with 1 Axes>"
            ],
            "image/png": "[encoded data removed]"
          },
          "metadata": {}
        }
      ]
    }
  ]
}